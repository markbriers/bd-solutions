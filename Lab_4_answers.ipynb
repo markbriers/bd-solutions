{
 "cells": [
  {
   "cell_type": "markdown",
   "metadata": {},
   "source": [
    "# Lab 4 Answers:"
   ]
  },
  {
   "cell_type": "markdown",
   "metadata": {},
   "source": [
    "### Exercise 1:"
   ]
  },
  {
   "cell_type": "markdown",
   "metadata": {},
   "source": [
    "We first create the two RDDs (heathrowdata and wickairportData) from Lab 3:"
   ]
  },
  {
   "cell_type": "code",
   "execution_count": null,
   "metadata": {},
   "outputs": [],
   "source": [
    "val heathrowFile = sc.textFile(\"file:///home/USER/bd-sp-2017/data/heathrowdata.txt\")\n",
    "val wickairportFile = sc.textFile(\"file:///home/USER/bd-sp-2017/data/wickairportdata.txt\")\n",
    "\n",
    "def isHeader(line: String): Boolean = {\n",
    "  line.contains(\"yyyy\")\n",
    "}\n",
    "\n",
    "case class TemperatureRecord(year: Long, month: Int, tmax: Float, tmin: Float, rain: Float)\n",
    "\n",
    "def parse(line: String) = {\n",
    "  val pieces = line.split('\\t')\n",
    "  val year = pieces(0).toLong\n",
    "  val mm = pieces(1).toInt\n",
    "  val tmax = pieces(2).toFloat\n",
    "  val tmin = pieces(3).toFloat\n",
    "  val rain = pieces(4).toFloat\n",
    "  TemperatureRecord(year, mm, tmax, tmin, rain)\n",
    "}\n",
    "\n",
    "def isMissing(line: String): Boolean = {\n",
    "  line.contains(\"---\")\n",
    "}\n",
    "\n",
    "val heathrowData = heathrowFile.filter(x => !isHeader(x)).filter(x => !isMissing(x)).map(parse)\n",
    "val wickairportData = wickairportFile.filter(x => !isHeader(x)).filter(x => !isMissing(x)).map(parse)"
   ]
  },
  {
   "cell_type": "markdown",
   "metadata": {},
   "source": [
    "Note that USER will need to be replaced with your compute cluster username, userN. "
   ]
  },
  {
   "cell_type": "markdown",
   "metadata": {},
   "source": [
    "Now using the function we created to remove missing data we make a note of the year(s) and month(s) of the missing data records. First for Heathrow:"
   ]
  },
  {
   "cell_type": "code",
   "execution_count": null,
   "metadata": {},
   "outputs": [],
   "source": [
    "heathrowFile.filter(x => isMissing(x)).foreach(println)"
   ]
  },
  {
   "cell_type": "markdown",
   "metadata": {},
   "source": [
    "Nothing was printed so there is no missing data for Heathrow. Now for Wick:"
   ]
  },
  {
   "cell_type": "code",
   "execution_count": null,
   "metadata": {},
   "outputs": [],
   "source": [
    "wickairportFile.filter(x => isMissing(x)).foreach(println)"
   ]
  },
  {
   "cell_type": "markdown",
   "metadata": {},
   "source": [
    "The following output was obtained:"
   ]
  },
  {
   "cell_type": "raw",
   "metadata": {},
   "source": [
    "1923    2    5.7     ---    62\n",
    "1931    8    13.2    ---    27.1\n",
    "1934    2    ---     2.1    41.1\n",
    "1996    9    14.5    ---    35.6\n",
    "1998    2    ---     ---    87.9"
   ]
  },
  {
   "cell_type": "markdown",
   "metadata": {},
   "source": [
    "### Exercise 2:"
   ]
  },
  {
   "cell_type": "markdown",
   "metadata": {},
   "source": [
    "Code to compute the average monthly max temperature for both airports (heathrowAverageTMax and wickAverageTMax) is included below:"
   ]
  },
  {
   "cell_type": "code",
   "execution_count": null,
   "metadata": {},
   "outputs": [],
   "source": [
    "val heathrowAverageTmax = heathrowData.map(x => (x.year,x.tmax)).aggregateByKey((0.0,0.0))((acc,value) => (acc._1 + value, acc._2 + 1), (acc1, acc2) => (acc1._1 + acc2._1, acc1._2 + acc2._2)).mapValues(sumCount => 1.0 * sumCount._1 / sumCount._2).sortBy(_._1)\n",
    "val wickairportAverageTmax = wickairportData.map(x => (x.year,x.tmax)).aggregateByKey((0.0,0.0))((acc,value) => (acc._1 + value, acc._2 + 1), (acc1, acc2) => (acc1._1 + acc2._1, acc1._2 + acc2._2)).mapValues(sumCount => 1.0 * sumCount._1 / sumCount._2).sortBy(_._1)"
   ]
  },
  {
   "cell_type": "markdown",
   "metadata": {},
   "source": [
    "### Exercise 3:"
   ]
  },
  {
   "cell_type": "markdown",
   "metadata": {},
   "source": [
    "Code to join the Tmax data from the heathrowData and wickairportData datasets is included below:"
   ]
  },
  {
   "cell_type": "code",
   "execution_count": null,
   "metadata": {},
   "outputs": [],
   "source": [
    "val h_data = heathrowData.map(x => ((x.year,x.month),x.tmax))\n",
    "val w_data = wickairportData.map(x => ((x.year,x.month),x.tmax))\n",
    "val combinedData = h_data.join(w_data)"
   ]
  },
  {
   "cell_type": "markdown",
   "metadata": {},
   "source": [
    "### Exercise 4:"
   ]
  },
  {
   "cell_type": "markdown",
   "metadata": {},
   "source": [
    "Code to compute summary statistics for each monthly max temperature data is included below:"
   ]
  },
  {
   "cell_type": "code",
   "execution_count": null,
   "metadata": {},
   "outputs": [],
   "source": [
    "val h_tmax_observations = combinedData.map(_._2._1).map(x => Vectors.dense(x.toDouble))\n",
    "val w_tmax_observations = combinedData.map(_._2._2).map(x => Vectors.dense(x.toDouble))\n",
    "val heathrow_summary: MultivariateStatisticalSummary = Statistics.colStats(h_tmax_observations)\n",
    "val wick_summary: MultivariateStatisticalSummary = Statistics.colStats(w_tmax_observations)\n",
    "println(heathrow_summary.mean)\n",
    "println(heathrow_summary.variance)\n",
    "println(wick_summary.mean)\n",
    "println(wick_summary.variance)"
   ]
  },
  {
   "cell_type": "markdown",
   "metadata": {},
   "source": [
    "The output of the last four print commands was:"
   ]
  },
  {
   "cell_type": "raw",
   "metadata": {},
   "source": [
    "scala> println(heathrow_summary.mean)\n",
    "[14.831818165079088]\n",
    "\n",
    "scala> println(heathrow_summary.variance)\n",
    "[33.30195066147067]\n",
    "\n",
    "scala> println(wick_summary.mean)\n",
    "[10.644717449052326]\n",
    "\n",
    "scala> println(wick_summary.variance)\n",
    "[14.065451808554299]"
   ]
  },
  {
   "cell_type": "markdown",
   "metadata": {},
   "source": [
    "### Exercise 5:"
   ]
  },
  {
   "cell_type": "markdown",
   "metadata": {},
   "source": [
    "Code to compute the Pearson correlation coefficient for the two average max temperature datasets computed in Exercise 2 is included below:"
   ]
  },
  {
   "cell_type": "code",
   "execution_count": null,
   "metadata": {},
   "outputs": [],
   "source": [
    "val combined_average_tmax = heathrowAverageTmax.join(wickairportAverageTmax)\n",
    "val correlation = Statistics.corr(combined_average_tmax.map(_._2._1),combined_average_tmax.map(_._2._2),\"pearson\")"
   ]
  },
  {
   "cell_type": "markdown",
   "metadata": {},
   "source": [
    "The result from this code is the following output:"
   ]
  },
  {
   "cell_type": "raw",
   "metadata": {},
   "source": [
    "scala> val correlation = Statistics.corr(combined_average_tmax.map(_._2._1),combined_average_tmax.map(_._2._2),\"pearson\")\n",
    "correlation: Double = 0.8355284988472023"
   ]
  },
  {
   "cell_type": "markdown",
   "metadata": {},
   "source": [
    "Since 0.8355 > 0 and is close to 1 this tells us that there is a strong positive correlation between the average max temperature in Heathrow and in Wick."
   ]
  }
 ],
 "metadata": {
  "kernelspec": {
   "display_name": "Python 3",
   "language": "python",
   "name": "python3"
  },
  "language_info": {
   "codemirror_mode": {
    "name": "ipython",
    "version": 3
   },
   "file_extension": ".py",
   "mimetype": "text/x-python",
   "name": "python",
   "nbconvert_exporter": "python",
   "pygments_lexer": "ipython3",
   "version": "3.7.6"
  }
 },
 "nbformat": 4,
 "nbformat_minor": 4
}
